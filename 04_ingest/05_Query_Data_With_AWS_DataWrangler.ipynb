{
 "cells": [
  {
   "cell_type": "markdown",
   "metadata": {},
   "source": [
    "# Query Data with AWS Data Wrangler\n",
    "* https://github.com/awslabs/aws-data-wrangler\n",
    "* https://aws-data-wrangler.readthedocs.io"
   ]
  },
  {
   "cell_type": "markdown",
   "metadata": {},
   "source": [
    "AWS Data Wrangler is an open-source Python package that extends the power of the Pandas library to AWS connecting DataFrames and AWS data related services (Amazon Redshift, AWS Glue, Amazon Athena, Amazon EMR, Amazon QuickSight, etc).\n",
    "\n",
    "Built on top of other open-source projects like Pandas, Apache Arrow, Boto3, s3fs, SQLAlchemy, Psycopg2 and PyMySQL, it offers abstracted functions to execute usual ETL tasks like load/unload data from Data Lakes, Data Warehouses and Databases.\n",
    "\n",
    "_Note that AWS Data Wrangler is simply a Python library that uses existing AWS Services.  AWS Data Wrangler is not a separate AWS Service.  You install AWS Data Wrangler through `pip install` as we will see next._"
   ]
  },
  {
   "cell_type": "code",
   "execution_count": 1,
   "metadata": {},
   "outputs": [],
   "source": [
    "!pip install -q awswrangler==1.2.0"
   ]
  },
  {
   "cell_type": "code",
   "execution_count": 2,
   "metadata": {},
   "outputs": [],
   "source": [
    "import boto3\n",
    "import sagemaker\n",
    "\n",
    "# Get region \n",
    "session = boto3.session.Session()\n",
    "region_name = session.region_name\n",
    "\n",
    "# Get SageMaker session & default S3 bucket\n",
    "sagemaker_session = sagemaker.Session()\n",
    "bucket = sagemaker_session.default_bucket()"
   ]
  },
  {
   "cell_type": "code",
   "execution_count": 3,
   "metadata": {},
   "outputs": [],
   "source": [
    "import awswrangler as wr"
   ]
  },
  {
   "cell_type": "markdown",
   "metadata": {},
   "source": [
    "# Query Parquet from S3 with Push-Down Filters\n",
    "\n",
    "Read Apache Parquet file(s) from from a received S3 prefix or list of S3 objects paths.\n",
    "\n",
    "The concept of Dataset goes beyond the simple idea of files and enable more complex features like partitioning and catalog integration (AWS Glue Catalog): \n",
    "\n",
    "dataset (bool) – If True read a parquet dataset instead of simple file(s) loading all the related partitions as columns."
   ]
  },
  {
   "cell_type": "code",
   "execution_count": 4,
   "metadata": {},
   "outputs": [
    {
     "data": {
      "text/plain": [
       "(102084, 3)"
      ]
     },
     "execution_count": 4,
     "metadata": {},
     "output_type": "execute_result"
    }
   ],
   "source": [
    "path = '{}/amazon-reviews-pds/parquet/'.format(bucket)\n",
    "df_parquet_results = wr.s3.read_parquet(path,\n",
    "                                     columns=['star_rating', 'product_category', 'review_body'],\n",
    "                                     filters=[(\"product_category\", \"=\", \"Digital_Software\")],\n",
    "                                     dataset=True)\n",
    "df_parquet_results.shape"
   ]
  },
  {
   "cell_type": "code",
   "execution_count": 5,
   "metadata": {},
   "outputs": [
    {
     "data": {
      "text/html": [
       "<div>\n",
       "<style scoped>\n",
       "    .dataframe tbody tr th:only-of-type {\n",
       "        vertical-align: middle;\n",
       "    }\n",
       "\n",
       "    .dataframe tbody tr th {\n",
       "        vertical-align: top;\n",
       "    }\n",
       "\n",
       "    .dataframe thead th {\n",
       "        text-align: right;\n",
       "    }\n",
       "</style>\n",
       "<table border=\"1\" class=\"dataframe\">\n",
       "  <thead>\n",
       "    <tr style=\"text-align: right;\">\n",
       "      <th></th>\n",
       "      <th>star_rating</th>\n",
       "      <th>review_body</th>\n",
       "      <th>product_category</th>\n",
       "    </tr>\n",
       "  </thead>\n",
       "  <tbody>\n",
       "    <tr>\n",
       "      <th>0</th>\n",
       "      <td>5</td>\n",
       "      <td>superb program that  has found every threat la...</td>\n",
       "      <td>Digital_Software</td>\n",
       "    </tr>\n",
       "    <tr>\n",
       "      <th>1</th>\n",
       "      <td>5</td>\n",
       "      <td>Have used for several years and am satisfied w...</td>\n",
       "      <td>Digital_Software</td>\n",
       "    </tr>\n",
       "    <tr>\n",
       "      <th>2</th>\n",
       "      <td>5</td>\n",
       "      <td>I have been using this program for 4 months. I...</td>\n",
       "      <td>Digital_Software</td>\n",
       "    </tr>\n",
       "    <tr>\n",
       "      <th>3</th>\n",
       "      <td>3</td>\n",
       "      <td>downloaded it, but it doesn't show up on my de...</td>\n",
       "      <td>Digital_Software</td>\n",
       "    </tr>\n",
       "    <tr>\n",
       "      <th>4</th>\n",
       "      <td>5</td>\n",
       "      <td>easy to use. quick updates. no problems for pa...</td>\n",
       "      <td>Digital_Software</td>\n",
       "    </tr>\n",
       "  </tbody>\n",
       "</table>\n",
       "</div>"
      ],
      "text/plain": [
       "   star_rating                                        review_body  \\\n",
       "0            5  superb program that  has found every threat la...   \n",
       "1            5  Have used for several years and am satisfied w...   \n",
       "2            5  I have been using this program for 4 months. I...   \n",
       "3            3  downloaded it, but it doesn't show up on my de...   \n",
       "4            5  easy to use. quick updates. no problems for pa...   \n",
       "\n",
       "   product_category  \n",
       "0  Digital_Software  \n",
       "1  Digital_Software  \n",
       "2  Digital_Software  \n",
       "3  Digital_Software  \n",
       "4  Digital_Software  "
      ]
     },
     "execution_count": 5,
     "metadata": {},
     "output_type": "execute_result"
    }
   ],
   "source": [
    "df_parquet_results.head(5)"
   ]
  },
  {
   "cell_type": "markdown",
   "metadata": {},
   "source": [
    "# Query Parquet from S3 in Chunks"
   ]
  },
  {
   "cell_type": "markdown",
   "metadata": {},
   "source": [
    "Batching (chunked argument) (Memory Friendly):\n",
    "\n",
    "Will enable the function to return a Iterable of DataFrames instead of a regular DataFrame.\n",
    "\n",
    "There are two batching strategies on Wrangler:\n",
    "* If chunked=True, a new DataFrame will be returned for each file in your path/dataset.\n",
    "* If chunked=INTEGER, Wrangler will iterate on the data by number of rows equal to the received INTEGER.\n",
    "\n",
    "P.S. chunked=True if faster and uses less memory while chunked=INTEGER is more precise in number of rows for each Dataframe."
   ]
  },
  {
   "cell_type": "code",
   "execution_count": 6,
   "metadata": {},
   "outputs": [],
   "source": [
    "path = '{}/amazon-reviews-pds/parquet/'.format(bucket)\n",
    "chunk_iter = wr.s3.read_parquet(path,\n",
    "                                columns=['star_rating', 'product_category', 'review_body'],\n",
    "                                filters=[(\"product_category\", \"=\", \"Digital_Software\")],\n",
    "                                dataset=True,\n",
    "                                chunked=True)"
   ]
  },
  {
   "cell_type": "code",
   "execution_count": 7,
   "metadata": {
    "scrolled": true
   },
   "outputs": [
    {
     "name": "stdout",
     "output_type": "stream",
     "text": [
      "       star_rating                                        review_body  \\\n",
      "0                5  superb program that  has found every threat la...   \n",
      "1                5  Have used for several years and am satisfied w...   \n",
      "2                5  I have been using this program for 4 months. I...   \n",
      "3                3  downloaded it, but it doesn't show up on my de...   \n",
      "4                5  easy to use. quick updates. no problems for pa...   \n",
      "...            ...                                                ...   \n",
      "39912            1  While the software in the box will work for Ma...   \n",
      "39913            5  The Software Download Sample is a pretty slick...   \n",
      "39914            1  The Amazon Downloader doesn't work for this pr...   \n",
      "39915            5  I have used used Turbotax to do my taxes for 1...   \n",
      "39916            3  My biggest complaint is that e-file costs extr...   \n",
      "\n",
      "       product_category  \n",
      "0      Digital_Software  \n",
      "1      Digital_Software  \n",
      "2      Digital_Software  \n",
      "3      Digital_Software  \n",
      "4      Digital_Software  \n",
      "...                 ...  \n",
      "39912  Digital_Software  \n",
      "39913  Digital_Software  \n",
      "39914  Digital_Software  \n",
      "39915  Digital_Software  \n",
      "39916  Digital_Software  \n",
      "\n",
      "[39917 rows x 3 columns]\n"
     ]
    }
   ],
   "source": [
    "print(next(chunk_iter))"
   ]
  },
  {
   "cell_type": "markdown",
   "metadata": {},
   "source": [
    "# Query the Glue Catalog (ie. Hive Metastore)\n",
    "Get an iterator of tables."
   ]
  },
  {
   "cell_type": "code",
   "execution_count": 8,
   "metadata": {},
   "outputs": [],
   "source": [
    "database_name = 'dsoaws'\n",
    "table_name_tsv = 'amazon_reviews_tsv'"
   ]
  },
  {
   "cell_type": "code",
   "execution_count": 9,
   "metadata": {},
   "outputs": [
    {
     "name": "stdout",
     "output_type": "stream",
     "text": [
      "amazon_reviews_parquet\n",
      "amazon_reviews_tsv\n"
     ]
    }
   ],
   "source": [
    "for table in wr.catalog.get_tables(database=\"dsoaws\"):\n",
    "    print(table['Name'])"
   ]
  },
  {
   "cell_type": "markdown",
   "metadata": {},
   "source": [
    "# Query from Athena\n",
    "Execute any SQL query on AWS Athena and return the results as a Pandas DataFrame.  \n"
   ]
  },
  {
   "cell_type": "code",
   "execution_count": 10,
   "metadata": {},
   "outputs": [
    {
     "name": "stdout",
     "output_type": "stream",
     "text": [
      "CPU times: user 274 ms, sys: 26.7 ms, total: 300 ms\n",
      "Wall time: 7.91 s\n"
     ]
    }
   ],
   "source": [
    "%%time\n",
    "df = wr.athena.read_sql_query(\n",
    "    sql='SELECT * FROM {} LIMIT 5000'.format(table_name_tsv),\n",
    "    database=database_name\n",
    ")"
   ]
  },
  {
   "cell_type": "code",
   "execution_count": 11,
   "metadata": {},
   "outputs": [
    {
     "data": {
      "text/html": [
       "<div>\n",
       "<style scoped>\n",
       "    .dataframe tbody tr th:only-of-type {\n",
       "        vertical-align: middle;\n",
       "    }\n",
       "\n",
       "    .dataframe tbody tr th {\n",
       "        vertical-align: top;\n",
       "    }\n",
       "\n",
       "    .dataframe thead th {\n",
       "        text-align: right;\n",
       "    }\n",
       "</style>\n",
       "<table border=\"1\" class=\"dataframe\">\n",
       "  <thead>\n",
       "    <tr style=\"text-align: right;\">\n",
       "      <th></th>\n",
       "      <th>marketplace</th>\n",
       "      <th>customer_id</th>\n",
       "      <th>review_id</th>\n",
       "      <th>product_id</th>\n",
       "      <th>product_parent</th>\n",
       "      <th>product_title</th>\n",
       "      <th>product_category</th>\n",
       "      <th>star_rating</th>\n",
       "      <th>helpful_votes</th>\n",
       "      <th>total_votes</th>\n",
       "      <th>vine</th>\n",
       "      <th>verified_purchase</th>\n",
       "      <th>review_headline</th>\n",
       "      <th>review_body</th>\n",
       "      <th>review_date</th>\n",
       "    </tr>\n",
       "  </thead>\n",
       "  <tbody>\n",
       "    <tr>\n",
       "      <th>0</th>\n",
       "      <td>US</td>\n",
       "      <td>39351822</td>\n",
       "      <td>R6081K6YSOU9W</td>\n",
       "      <td>B00M76N6MO</td>\n",
       "      <td>16665562</td>\n",
       "      <td>Intuit Quicken for Mac 2015</td>\n",
       "      <td>Digital_Software</td>\n",
       "      <td>4</td>\n",
       "      <td>2</td>\n",
       "      <td>4</td>\n",
       "      <td>N</td>\n",
       "      <td>Y</td>\n",
       "      <td>Transfer from Windows based Quicken</td>\n",
       "      <td>I successfully utilized the Quicken file conve...</td>\n",
       "      <td>2015-08-28</td>\n",
       "    </tr>\n",
       "    <tr>\n",
       "      <th>1</th>\n",
       "      <td>US</td>\n",
       "      <td>49271891</td>\n",
       "      <td>R2JIHZAER0886E</td>\n",
       "      <td>B00M9GTL6M</td>\n",
       "      <td>83475114</td>\n",
       "      <td>Quicken Premier Personal Finance &amp; Budgeting S...</td>\n",
       "      <td>Digital_Software</td>\n",
       "      <td>1</td>\n",
       "      <td>2</td>\n",
       "      <td>2</td>\n",
       "      <td>N</td>\n",
       "      <td>Y</td>\n",
       "      <td>Woe to ye who go here</td>\n",
       "      <td>This program is a steaming pile of horse manur...</td>\n",
       "      <td>2015-08-28</td>\n",
       "    </tr>\n",
       "    <tr>\n",
       "      <th>2</th>\n",
       "      <td>US</td>\n",
       "      <td>106565</td>\n",
       "      <td>R39NNHWYQ6HZ3C</td>\n",
       "      <td>B00MHZ71G2</td>\n",
       "      <td>8655796</td>\n",
       "      <td>Norton Security with Back Up</td>\n",
       "      <td>Digital_Software</td>\n",
       "      <td>1</td>\n",
       "      <td>0</td>\n",
       "      <td>3</td>\n",
       "      <td>N</td>\n",
       "      <td>N</td>\n",
       "      <td>One Star</td>\n",
       "      <td>false sense of security, wouldn't recommend</td>\n",
       "      <td>2015-08-28</td>\n",
       "    </tr>\n",
       "    <tr>\n",
       "      <th>3</th>\n",
       "      <td>US</td>\n",
       "      <td>14886874</td>\n",
       "      <td>R36V41QQIEWW3K</td>\n",
       "      <td>B00GWSJA7I</td>\n",
       "      <td>235293272</td>\n",
       "      <td>Cook'n Recipe Organizer Version 11 PC [Download]</td>\n",
       "      <td>Digital_Software</td>\n",
       "      <td>5</td>\n",
       "      <td>2</td>\n",
       "      <td>2</td>\n",
       "      <td>N</td>\n",
       "      <td>Y</td>\n",
       "      <td>I love it. I had a little problem with the ...</td>\n",
       "      <td>I purchased this about 3  weeks ago. I love it...</td>\n",
       "      <td>2015-08-28</td>\n",
       "    </tr>\n",
       "    <tr>\n",
       "      <th>4</th>\n",
       "      <td>US</td>\n",
       "      <td>17603965</td>\n",
       "      <td>R2AESTJ8LY7LD7</td>\n",
       "      <td>B00GWSJD1G</td>\n",
       "      <td>996404290</td>\n",
       "      <td>Cook'n Recipe Organizer Version 11 MAC [Download]</td>\n",
       "      <td>Digital_Software</td>\n",
       "      <td>5</td>\n",
       "      <td>1</td>\n",
       "      <td>1</td>\n",
       "      <td>N</td>\n",
       "      <td>N</td>\n",
       "      <td>The program is awesome and they are continuall...</td>\n",
       "      <td>I have been using Cook'n Recipe organizer soft...</td>\n",
       "      <td>2015-08-28</td>\n",
       "    </tr>\n",
       "  </tbody>\n",
       "</table>\n",
       "</div>"
      ],
      "text/plain": [
       "  marketplace customer_id       review_id  product_id product_parent  \\\n",
       "0          US    39351822   R6081K6YSOU9W  B00M76N6MO       16665562   \n",
       "1          US    49271891  R2JIHZAER0886E  B00M9GTL6M       83475114   \n",
       "2          US      106565  R39NNHWYQ6HZ3C  B00MHZ71G2        8655796   \n",
       "3          US    14886874  R36V41QQIEWW3K  B00GWSJA7I      235293272   \n",
       "4          US    17603965  R2AESTJ8LY7LD7  B00GWSJD1G      996404290   \n",
       "\n",
       "                                       product_title  product_category  \\\n",
       "0                        Intuit Quicken for Mac 2015  Digital_Software   \n",
       "1  Quicken Premier Personal Finance & Budgeting S...  Digital_Software   \n",
       "2                       Norton Security with Back Up  Digital_Software   \n",
       "3   Cook'n Recipe Organizer Version 11 PC [Download]  Digital_Software   \n",
       "4  Cook'n Recipe Organizer Version 11 MAC [Download]  Digital_Software   \n",
       "\n",
       "   star_rating  helpful_votes  total_votes vine verified_purchase  \\\n",
       "0            4              2            4    N                 Y   \n",
       "1            1              2            2    N                 Y   \n",
       "2            1              0            3    N                 N   \n",
       "3            5              2            2    N                 Y   \n",
       "4            5              1            1    N                 N   \n",
       "\n",
       "                                     review_headline  \\\n",
       "0                Transfer from Windows based Quicken   \n",
       "1                              Woe to ye who go here   \n",
       "2                                           One Star   \n",
       "3     I love it. I had a little problem with the ...   \n",
       "4  The program is awesome and they are continuall...   \n",
       "\n",
       "                                         review_body review_date  \n",
       "0  I successfully utilized the Quicken file conve...  2015-08-28  \n",
       "1  This program is a steaming pile of horse manur...  2015-08-28  \n",
       "2        false sense of security, wouldn't recommend  2015-08-28  \n",
       "3  I purchased this about 3  weeks ago. I love it...  2015-08-28  \n",
       "4  I have been using Cook'n Recipe organizer soft...  2015-08-28  "
      ]
     },
     "execution_count": 11,
     "metadata": {},
     "output_type": "execute_result"
    }
   ],
   "source": [
    "df.head(5)"
   ]
  },
  {
   "cell_type": "markdown",
   "metadata": {},
   "source": [
    "# Query from Athena in Chunks\n",
    "Retrieving in chunks can help reduce memory requirements."
   ]
  },
  {
   "cell_type": "code",
   "execution_count": 16,
   "metadata": {},
   "outputs": [
    {
     "name": "stdout",
     "output_type": "stream",
     "text": [
      "CPU times: user 244 ms, sys: 29 ms, total: 273 ms\n",
      "Wall time: 6.46 s\n"
     ]
    }
   ],
   "source": [
    "%%time\n",
    "\n",
    "chunk_iter = wr.athena.read_sql_query(\n",
    "    sql='SELECT * FROM {} LIMIT 5000'.format(table_name_tsv),\n",
    "    database='{}'.format(database_name),\n",
    "    chunksize=64_000  # 64 KB Chunks\n",
    ")"
   ]
  },
  {
   "cell_type": "code",
   "execution_count": 17,
   "metadata": {},
   "outputs": [
    {
     "name": "stdout",
     "output_type": "stream",
     "text": [
      "     marketplace customer_id       review_id  product_id product_parent  \\\n",
      "0             US    21269168   RSH1OZ87OYK92  B013PURRZW      603406193   \n",
      "1             US      133437  R1WFOQ3N9BO65I  B00F4CEHNK      341969535   \n",
      "2             US    45765011   R3YOOS71KM5M9  B00DNHLFQA      951665344   \n",
      "3             US      113118  R3R14UATT3OUFU  B004RMK5QG      395682204   \n",
      "4             US    22151364   RV2W9SGDNQA2C  B00G9BNLQE      640460561   \n",
      "...          ...         ...             ...         ...            ...   \n",
      "4995          US    43772834  R2BDHPYJDKXU4U  B001LRQ8IY      860645179   \n",
      "4996          US    19883114   R41WEWLBI32NR  B00H4OZAHI      311771395   \n",
      "4997          US    14740496  R1V3E526OROIJJ  B008D7F47Q      886655228   \n",
      "4998          US    25866816  R3CU78BH4XYHQ7  B004NNVE8M      126837696   \n",
      "4999          US    11391552  R1LEE669UD0W9M  B00VKW9NXW      512748721   \n",
      "\n",
      "                                          product_title     product_category  \\\n",
      "0                 Madden NFL 16 - Xbox One Digital Code  Digital_Video_Games   \n",
      "1                                   Xbox Live Gift Card  Digital_Video_Games   \n",
      "2     Command & Conquer The Ultimate Collection [Ins...  Digital_Video_Games   \n",
      "3                         Playstation Plus Subscription  Digital_Video_Games   \n",
      "4     Saints Row IV - Enter The Dominatrix [Online G...  Digital_Video_Games   \n",
      "...                                                 ...                  ...   \n",
      "4995                 Castle Crashers [Online Game Code]  Digital_Video_Games   \n",
      "4996                       Teslagrad [Online Game Code]  Digital_Video_Games   \n",
      "4997                                     FIFA Soccer 13  Digital_Video_Games   \n",
      "4998                                        Gray Matter  Digital_Video_Games   \n",
      "4999                     Universal Combat CE [Download]  Digital_Video_Games   \n",
      "\n",
      "      star_rating  helpful_votes  total_votes vine verified_purchase  \\\n",
      "0               2              2            3    N                 N   \n",
      "1               5              0            0    N                 Y   \n",
      "2               5              0            0    N                 Y   \n",
      "3               5              0            0    N                 Y   \n",
      "4               5              0            0    N                 Y   \n",
      "...           ...            ...          ...  ...               ...   \n",
      "4995            4              0            0    N                 N   \n",
      "4996            5              1            1    N                 N   \n",
      "4997            5              0            0    N                 Y   \n",
      "4998            2              0            0    N                 Y   \n",
      "4999            4              4            4    N                 Y   \n",
      "\n",
      "                                        review_headline  \\\n",
      "0                  A slight improvement from last year.   \n",
      "1                                            Five Stars   \n",
      "2                               Hail to the great Yuri!   \n",
      "3                                            Five Stars   \n",
      "4                                            Five Stars   \n",
      "...                                                 ...   \n",
      "4995                                           Gooooood   \n",
      "4996  Teslagrad takes gameplay mechanics to a whole ...   \n",
      "4997                                               good   \n",
      "4998                                          Two Stars   \n",
      "4999      Slow-paced and relaxing, STEEP learning curve   \n",
      "\n",
      "                                            review_body review_date  \n",
      "0     I keep buying madden every year hoping they ge...  2015-08-31  \n",
      "1                                               Awesome  2015-08-31  \n",
      "2     If you are prepping for the end of the world t...  2015-08-31  \n",
      "3                                               Perfect  2015-08-31  \n",
      "4                                              Awesome!  2015-08-31  \n",
      "...                                                 ...         ...  \n",
      "4995  A great game. Graphics and humor is excellent....  2015-08-23  \n",
      "4996  Quick Glance:<br /><br />Platform: PC<br />Pla...  2015-08-23  \n",
      "4997                                               Good  2015-08-23  \n",
      "4998          Boring and the game controls are glitchy.  2015-08-23  \n",
      "4999  I was able to run this game at smooth, playabl...  2015-08-23  \n",
      "\n",
      "[5000 rows x 15 columns]\n"
     ]
    }
   ],
   "source": [
    "print(next(chunk_iter))"
   ]
  },
  {
   "cell_type": "code",
   "execution_count": null,
   "metadata": {},
   "outputs": [],
   "source": [
    "%%javascript\n",
    "Jupyter.notebook.save_checkpoint();\n",
    "Jupyter.notebook.session.delete();"
   ]
  },
  {
   "cell_type": "code",
   "execution_count": null,
   "metadata": {},
   "outputs": [],
   "source": []
  }
 ],
 "metadata": {
  "kernelspec": {
   "display_name": "conda_python3",
   "language": "python",
   "name": "conda_python3"
  },
  "language_info": {
   "codemirror_mode": {
    "name": "ipython",
    "version": 3
   },
   "file_extension": ".py",
   "mimetype": "text/x-python",
   "name": "python",
   "nbconvert_exporter": "python",
   "pygments_lexer": "ipython3",
   "version": "3.6.10"
  }
 },
 "nbformat": 4,
 "nbformat_minor": 4
}
